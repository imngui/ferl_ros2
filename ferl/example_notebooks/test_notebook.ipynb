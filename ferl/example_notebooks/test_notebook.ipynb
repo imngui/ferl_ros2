{
 "cells": [
  {
   "cell_type": "code",
   "execution_count": 1,
   "metadata": {},
   "outputs": [],
   "source": [
    "import sys\n",
    "import numpy as np\n",
    "import pandas as pd\n",
    "import pickle\n",
    "import re\n",
    "import math\n",
    "import os\n",
    "os.environ['KMP_DUPLICATE_LIB_OK']='True'\n",
    "sys.path.append(os.path.join(os.path.abspath(os.getcwd()),\"..\"))\n",
    "sys.path.append(os.path.join(os.path.abspath(os.getcwd()),\"../..\"))\n",
    "parent_dir = os.path.abspath(os.path.join(os.getcwd(), '../..'))"
   ]
  },
  {
   "cell_type": "code",
   "execution_count": 2,
   "metadata": {},
   "outputs": [
    {
     "name": "stdout",
     "output_type": "stream",
     "text": [
      "You can set logging level with TRAJOPT_LOG_THRESH. Valid values: FATAL ERROR WARN INFO DEBUG TRACE. Defaulting to INFO\n"
     ]
    }
   ],
   "source": [
    "# import MEIRL Modules\n",
    "from MaxEnt_Baseline.baseline_utils import *\n",
    "from MaxEnt_Baseline.Reward_Expert import *\n",
    "from MaxEnt_Baseline.MaxEntBaseline import *\n",
    "from utils.trajectory import Trajectory\n",
    "from utils.plot_utils import *"
   ]
  },
  {
   "cell_type": "code",
   "execution_count": 3,
   "metadata": {},
   "outputs": [],
   "source": [
    "# Settings for the different cases\n",
    "feat_list_cases = [[\"laptop\", \"coffee\", \"table\"],[\"laptop\", \"coffee\", \"table\"], [\"proxemics\", \"coffee\", \"table\"]]\n",
    "weights_cases = [[10.0, 0.0, 10.0], [10.0, 0.0, 10.0], [10.0, 0.0, 10.0]]\n",
    "known_features_cases = [[\"table\", \"coffee\"], [\"laptop\", \"coffee\"], [\"table\", \"coffee\"]]\n",
    "\n",
    "traj_feat_list = [ \"tablelaptop_case1\", \"tablelaptop_case2\", \"tableproxemics_case3\"]\n",
    "traj_idx_list = [[4, 13,0, 15], [0,1,2,3,4,5,6,7], [1,2,3,4,6]]\n",
    "\n",
    "\n",
    "# TrajOpt Settings\n",
    "obj_center_dict = {'HUMAN_CENTER': [-0.2, -0.5, 0.6], 'LAPTOP_CENTER': [-0.6, 0.0, 0.0]}\n",
    "T = 20.0\n",
    "timestep=0.5"
   ]
  },
  {
   "cell_type": "code",
   "execution_count": 4,
   "metadata": {},
   "outputs": [],
   "source": [
    "# Setting for which Case (see paper)\n",
    "case = 1\n",
    "\n",
    "# adjust accordingly\n",
    "feat_list = feat_list_cases[case-1]\n",
    "weights = weights_cases[case-1]\n",
    "known_features = known_features_cases[case-1]"
   ]
  },
  {
   "cell_type": "code",
   "execution_count": 5,
   "metadata": {},
   "outputs": [
    {
     "name": "stdout",
     "output_type": "stream",
     "text": [
      "\u001b[0;33;48m[plugindatabase.cpp:152 Init] \u001b[0;38;48m\u001b[0;33;48mFailed to read environment variable OPENRAVE_PLUGINS\u001b[0;38;48m\u001b[0;33;48m[plugindatabase.cpp:320 _LoadPlugin] \u001b[0;38;48m\u001b[0;33;48m/usr/local/lib/openrave0.148-plugins/librampoptimizer.so: undefined symbol: CreatePlugin, might not be an OpenRAVE plugin.\u001b[m\n"
     ]
    },
    {
     "ename": "PackageNotFoundError",
     "evalue": "\"package 'ur5e_2f_85_description' not found, searching: ['/opt/ros/jazzy']\"",
     "output_type": "error",
     "traceback": [
      "\u001b[0;31m---------------------------------------------------------------------------\u001b[0m",
      "\u001b[0;31mLookupError\u001b[0m                               Traceback (most recent call last)",
      "File \u001b[0;32m/opt/ros/jazzy/lib/python3.12/site-packages/ament_index_python/packages.py:60\u001b[0m, in \u001b[0;36mget_package_prefix\u001b[0;34m(package_name)\u001b[0m\n\u001b[1;32m     59\u001b[0m \u001b[38;5;28;01mtry\u001b[39;00m:\n\u001b[0;32m---> 60\u001b[0m     content, package_prefix \u001b[38;5;241m=\u001b[39m \u001b[43mget_resource\u001b[49m\u001b[43m(\u001b[49m\u001b[38;5;124;43m'\u001b[39;49m\u001b[38;5;124;43mpackages\u001b[39;49m\u001b[38;5;124;43m'\u001b[39;49m\u001b[43m,\u001b[49m\u001b[43m \u001b[49m\u001b[43mpackage_name\u001b[49m\u001b[43m)\u001b[49m\n\u001b[1;32m     61\u001b[0m \u001b[38;5;28;01mexcept\u001b[39;00m \u001b[38;5;167;01mLookupError\u001b[39;00m:\n",
      "File \u001b[0;32m/opt/ros/jazzy/lib/python3.12/site-packages/ament_index_python/resources.py:92\u001b[0m, in \u001b[0;36mget_resource\u001b[0;34m(resource_type, resource_name)\u001b[0m\n\u001b[1;32m     91\u001b[0m         \u001b[38;5;28;01mreturn\u001b[39;00m content, path\n\u001b[0;32m---> 92\u001b[0m \u001b[38;5;28;01mraise\u001b[39;00m \u001b[38;5;167;01mLookupError\u001b[39;00m(\n\u001b[1;32m     93\u001b[0m     \u001b[38;5;124m\"\u001b[39m\u001b[38;5;124mCould not find the resource \u001b[39m\u001b[38;5;124m'\u001b[39m\u001b[38;5;132;01m%s\u001b[39;00m\u001b[38;5;124m'\u001b[39m\u001b[38;5;124m of type \u001b[39m\u001b[38;5;124m'\u001b[39m\u001b[38;5;132;01m%s\u001b[39;00m\u001b[38;5;124m'\u001b[39m\u001b[38;5;124m\"\u001b[39m \u001b[38;5;241m%\u001b[39m (resource_name, resource_type))\n",
      "\u001b[0;31mLookupError\u001b[0m: Could not find the resource 'ur5e_2f_85_description' of type 'packages'",
      "\nDuring handling of the above exception, another exception occurred:\n",
      "\u001b[0;31mPackageNotFoundError\u001b[0m                      Traceback (most recent call last)",
      "Cell \u001b[0;32mIn[5], line 2\u001b[0m\n\u001b[1;32m      1\u001b[0m \u001b[38;5;66;03m# initialize empty reward expert\u001b[39;00m\n\u001b[0;32m----> 2\u001b[0m Expert \u001b[38;5;241m=\u001b[39m \u001b[43mGT_Reward_Expert\u001b[49m\u001b[43m(\u001b[49m\u001b[43mfeat_list\u001b[49m\u001b[43m,\u001b[49m\u001b[43m \u001b[49m\u001b[43mweights\u001b[49m\u001b[43m,\u001b[49m\u001b[43m \u001b[49m\u001b[43mgen\u001b[49m\u001b[38;5;241;43m=\u001b[39;49m\u001b[38;5;124;43m'\u001b[39;49m\u001b[38;5;124;43mcost\u001b[39;49m\u001b[38;5;124;43m'\u001b[39;49m\u001b[43m,\u001b[49m\n\u001b[1;32m      3\u001b[0m \u001b[43m                          \u001b[49m\u001b[43mstarts\u001b[49m\u001b[38;5;241;43m=\u001b[39;49m\u001b[43m[\u001b[49m\u001b[43m]\u001b[49m\u001b[43m,\u001b[49m\u001b[43m \u001b[49m\u001b[43mgoals\u001b[49m\u001b[38;5;241;43m=\u001b[39;49m\u001b[43m[\u001b[49m\u001b[43m]\u001b[49m\u001b[43m,\u001b[49m\u001b[43m \u001b[49m\u001b[43mgoal_poses\u001b[49m\u001b[38;5;241;43m=\u001b[39;49m\u001b[38;5;28;43;01mNone\u001b[39;49;00m\u001b[43m,\u001b[49m\u001b[43m \u001b[49m\u001b[43mcombi\u001b[49m\u001b[38;5;241;43m=\u001b[39;49m\u001b[38;5;28;43;01mFalse\u001b[39;49;00m\u001b[43m,\u001b[49m\n\u001b[1;32m      4\u001b[0m \u001b[43m                          \u001b[49m\u001b[43mobj_center_dict\u001b[49m\u001b[43m \u001b[49m\u001b[38;5;241;43m=\u001b[39;49m\u001b[43m \u001b[49m\u001b[43mobj_center_dict\u001b[49m\u001b[43m)\u001b[49m\n",
      "File \u001b[0;32m~/ferl_ws/src/ferl_ros2/ferl/example_notebooks/../MaxEnt_Baseline/Reward_Expert.py:32\u001b[0m, in \u001b[0;36mGT_Reward_Expert.__init__\u001b[0;34m(self, feat_list, gt_weights, gen, starts, goals, goal_poses, combi, T, timestep, obj_center_dict, feat_range_dict)\u001b[0m\n\u001b[1;32m     27\u001b[0m \u001b[38;5;28;01mdef\u001b[39;00m \u001b[38;5;21m__init__\u001b[39m(\u001b[38;5;28mself\u001b[39m, feat_list, gt_weights, gen, starts, goals, goal_poses\u001b[38;5;241m=\u001b[39m\u001b[38;5;28;01mNone\u001b[39;00m, combi\u001b[38;5;241m=\u001b[39m\u001b[38;5;28;01mFalse\u001b[39;00m, T\u001b[38;5;241m=\u001b[39m\u001b[38;5;241m20.\u001b[39m, timestep\u001b[38;5;241m=\u001b[39m\u001b[38;5;241m0.5\u001b[39m,\n\u001b[1;32m     28\u001b[0m \t\t\t obj_center_dict \u001b[38;5;241m=\u001b[39m {\u001b[38;5;124m'\u001b[39m\u001b[38;5;124mHUMAN_CENTER\u001b[39m\u001b[38;5;124m'\u001b[39m: [\u001b[38;5;241m-\u001b[39m\u001b[38;5;241m0.6\u001b[39m, \u001b[38;5;241m-\u001b[39m\u001b[38;5;241m0.55\u001b[39m, \u001b[38;5;241m0.0\u001b[39m], \u001b[38;5;124m'\u001b[39m\u001b[38;5;124mLAPTOP_CENTER\u001b[39m\u001b[38;5;124m'\u001b[39m: [\u001b[38;5;241m-\u001b[39m\u001b[38;5;241m0.8\u001b[39m, \u001b[38;5;241m0.0\u001b[39m, \u001b[38;5;241m0.0\u001b[39m]},\n\u001b[1;32m     29\u001b[0m \t\t\t feat_range_dict \u001b[38;5;241m=\u001b[39m {\u001b[38;5;124m'\u001b[39m\u001b[38;5;124mtable\u001b[39m\u001b[38;5;124m'\u001b[39m: \u001b[38;5;241m0.98\u001b[39m, \u001b[38;5;124m'\u001b[39m\u001b[38;5;124mcoffee\u001b[39m\u001b[38;5;124m'\u001b[39m: \u001b[38;5;241m1.0\u001b[39m, \u001b[38;5;124m'\u001b[39m\u001b[38;5;124mlaptop\u001b[39m\u001b[38;5;124m'\u001b[39m: \u001b[38;5;241m0.3\u001b[39m, \u001b[38;5;124m'\u001b[39m\u001b[38;5;124mhuman\u001b[39m\u001b[38;5;124m'\u001b[39m: \u001b[38;5;241m0.3\u001b[39m, \u001b[38;5;124m'\u001b[39m\u001b[38;5;124mefficiency\u001b[39m\u001b[38;5;124m'\u001b[39m: \u001b[38;5;241m0.22\u001b[39m, \u001b[38;5;124m'\u001b[39m\u001b[38;5;124mproxemics\u001b[39m\u001b[38;5;124m'\u001b[39m: \u001b[38;5;241m0.3\u001b[39m, \u001b[38;5;124m'\u001b[39m\u001b[38;5;124mbetweenobjects\u001b[39m\u001b[38;5;124m'\u001b[39m: \u001b[38;5;241m0.2\u001b[39m}):\n\u001b[1;32m     30\u001b[0m \n\u001b[1;32m     31\u001b[0m \t\u001b[38;5;66;03m# instantiate an environment & trajOpt planner\u001b[39;00m\n\u001b[0;32m---> 32\u001b[0m \tenv, planner \u001b[38;5;241m=\u001b[39m \u001b[43minit_env\u001b[49m\u001b[43m(\u001b[49m\u001b[43mfeat_list\u001b[49m\u001b[43m,\u001b[49m\u001b[43m \u001b[49m\u001b[43mgt_weights\u001b[49m\u001b[43m,\u001b[49m\u001b[43m \u001b[49m\u001b[43mobject_centers\u001b[49m\u001b[38;5;241;43m=\u001b[39;49m\u001b[43mobj_center_dict\u001b[49m\u001b[43m,\u001b[49m\u001b[43m \u001b[49m\u001b[43mfeat_range\u001b[49m\u001b[38;5;241;43m=\u001b[39;49m\u001b[43mfeat_range_dict\u001b[49m\u001b[43m)\u001b[49m\n\u001b[1;32m     33\u001b[0m \t\u001b[38;5;28mself\u001b[39m\u001b[38;5;241m.\u001b[39menv \u001b[38;5;241m=\u001b[39m env\n\u001b[1;32m     34\u001b[0m \t\u001b[38;5;28mself\u001b[39m\u001b[38;5;241m.\u001b[39mplanner \u001b[38;5;241m=\u001b[39m planner\n",
      "File \u001b[0;32m~/ferl_ws/src/ferl_ros2/ferl/example_notebooks/../../ferl/MaxEnt_Baseline/baseline_utils.py:136\u001b[0m, in \u001b[0;36minit_env\u001b[0;34m(feat_list, weights, env_only, object_centers, feat_range)\u001b[0m\n\u001b[1;32m    133\u001b[0m max_iter \u001b[38;5;241m=\u001b[39m \u001b[38;5;241m50\u001b[39m\n\u001b[1;32m    134\u001b[0m num_waypts \u001b[38;5;241m=\u001b[39m \u001b[38;5;241m5\u001b[39m\n\u001b[0;32m--> 136\u001b[0m environment \u001b[38;5;241m=\u001b[39m \u001b[43mEnvironment\u001b[49m\u001b[43m(\u001b[49m\u001b[43mmodel_filename\u001b[49m\u001b[43m,\u001b[49m\u001b[43m \u001b[49m\u001b[43mobject_centers\u001b[49m\u001b[43m,\u001b[49m\u001b[43m \u001b[49m\u001b[43mfeat_list\u001b[49m\u001b[43m,\u001b[49m\u001b[43m \u001b[49m\u001b[43mfeat_range\u001b[49m\u001b[43m,\u001b[49m\u001b[43m \u001b[49m\u001b[43mnp\u001b[49m\u001b[38;5;241;43m.\u001b[39;49m\u001b[43marray\u001b[49m\u001b[43m(\u001b[49m\u001b[43mweights\u001b[49m\u001b[43m)\u001b[49m\u001b[43m,\u001b[49m\u001b[43m \u001b[49m\u001b[43mviewer\u001b[49m\u001b[38;5;241;43m=\u001b[39;49m\u001b[38;5;28;43;01mFalse\u001b[39;49;00m\u001b[43m)\u001b[49m\n\u001b[1;32m    137\u001b[0m \u001b[38;5;28;01mif\u001b[39;00m env_only:\n\u001b[1;32m    138\u001b[0m \t\u001b[38;5;28;01mreturn\u001b[39;00m environment\n",
      "File \u001b[0;32m~/ferl_ws/src/ferl_ros2/ferl/example_notebooks/../../ferl/utils/environment.py:24\u001b[0m, in \u001b[0;36mEnvironment.__init__\u001b[0;34m(self, model_filename, start_dofs, object_centers, feat_list, feat_range, feat_weights, LF_dict, viewer)\u001b[0m\n\u001b[1;32m     22\u001b[0m \u001b[38;5;28;01mdef\u001b[39;00m \u001b[38;5;21m__init__\u001b[39m(\u001b[38;5;28mself\u001b[39m, model_filename, start_dofs, object_centers, feat_list\u001b[38;5;241m=\u001b[39m\u001b[38;5;28;01mNone\u001b[39;00m, feat_range\u001b[38;5;241m=\u001b[39m\u001b[38;5;28;01mNone\u001b[39;00m, feat_weights\u001b[38;5;241m=\u001b[39m\u001b[38;5;28;01mNone\u001b[39;00m, LF_dict\u001b[38;5;241m=\u001b[39m\u001b[38;5;28;01mNone\u001b[39;00m, viewer\u001b[38;5;241m=\u001b[39m\u001b[38;5;28;01mTrue\u001b[39;00m):\n\u001b[1;32m     23\u001b[0m     \u001b[38;5;66;03m# ---- Create environment ---- #\u001b[39;00m\n\u001b[0;32m---> 24\u001b[0m     \u001b[38;5;28mself\u001b[39m\u001b[38;5;241m.\u001b[39menv, \u001b[38;5;28mself\u001b[39m\u001b[38;5;241m.\u001b[39mrobot \u001b[38;5;241m=\u001b[39m \u001b[43minitialize\u001b[49m\u001b[43m(\u001b[49m\u001b[43mmodel_filename\u001b[49m\u001b[43m,\u001b[49m\u001b[43m \u001b[49m\u001b[43mstart_dofs\u001b[49m\u001b[43m,\u001b[49m\u001b[43m \u001b[49m\u001b[43mviewer\u001b[49m\u001b[38;5;241;43m=\u001b[39;49m\u001b[43mviewer\u001b[49m\u001b[43m)\u001b[49m\n\u001b[1;32m     25\u001b[0m     \u001b[38;5;28mself\u001b[39m\u001b[38;5;241m.\u001b[39mnum_dofs \u001b[38;5;241m=\u001b[39m \u001b[38;5;28mself\u001b[39m\u001b[38;5;241m.\u001b[39mrobot\u001b[38;5;241m.\u001b[39mGetActiveDOF()\n\u001b[1;32m     27\u001b[0m     \u001b[38;5;66;03m# Insert any objects you want into environment.\u001b[39;00m\n",
      "File \u001b[0;32m~/ferl_ws/src/ferl_ros2/ferl/example_notebooks/../../ferl/utils/openrave_utils.py:41\u001b[0m, in \u001b[0;36minitialize\u001b[0;34m(model_filename, robot_starting_dofs, envXML, viewer)\u001b[0m\n\u001b[1;32m     37\u001b[0m \tenv\u001b[38;5;241m.\u001b[39mLoadURI(envXML)\n\u001b[1;32m     39\u001b[0m \u001b[38;5;66;03m# Assumes the robot files are located in the data folder of the\u001b[39;00m\n\u001b[1;32m     40\u001b[0m \u001b[38;5;66;03m# kinova_description package in the catkin workspace.\u001b[39;00m\n\u001b[0;32m---> 41\u001b[0m urdf_uri \u001b[38;5;241m=\u001b[39m os\u001b[38;5;241m.\u001b[39mpath\u001b[38;5;241m.\u001b[39mjoin(\u001b[43mget_package_share_directory\u001b[49m\u001b[43m(\u001b[49m\u001b[38;5;124;43m'\u001b[39;49m\u001b[38;5;124;43mur5e_2f_85_description\u001b[39;49m\u001b[38;5;124;43m'\u001b[39;49m\u001b[43m)\u001b[49m, \u001b[38;5;124m'\u001b[39m\u001b[38;5;124murdf\u001b[39m\u001b[38;5;124m'\u001b[39m, \u001b[38;5;124m'\u001b[39m\u001b[38;5;124mur5e_2f_85.urdf\u001b[39m\u001b[38;5;124m'\u001b[39m)\n\u001b[1;32m     42\u001b[0m srdf_uri \u001b[38;5;241m=\u001b[39m os\u001b[38;5;241m.\u001b[39mpath\u001b[38;5;241m.\u001b[39mjoin(get_package_share_directory(\u001b[38;5;124m'\u001b[39m\u001b[38;5;124mur5e_2f_85_moveit_config\u001b[39m\u001b[38;5;124m'\u001b[39m), \u001b[38;5;124m'\u001b[39m\u001b[38;5;124mconfig\u001b[39m\u001b[38;5;124m'\u001b[39m, \u001b[38;5;124m'\u001b[39m\u001b[38;5;124mur5e_2f_85.srdf\u001b[39m\u001b[38;5;124m'\u001b[39m)\n\u001b[1;32m     44\u001b[0m found \u001b[38;5;241m=\u001b[39m RaveLoadPlugin(os\u001b[38;5;241m.\u001b[39mpath\u001b[38;5;241m.\u001b[39mjoin(get_package_prefix(\u001b[38;5;124m'\u001b[39m\u001b[38;5;124mor_urdf\u001b[39m\u001b[38;5;124m'\u001b[39m), \u001b[38;5;124m'\u001b[39m\u001b[38;5;124mlib\u001b[39m\u001b[38;5;124m'\u001b[39m, \u001b[38;5;124m'\u001b[39m\u001b[38;5;124mopenrave-\u001b[39m\u001b[38;5;124m'\u001b[39m, \u001b[38;5;124m'\u001b[39m\u001b[38;5;124mor_urdf_plugin.so\u001b[39m\u001b[38;5;124m'\u001b[39m))\n",
      "File \u001b[0;32m/opt/ros/jazzy/lib/python3.12/site-packages/ament_index_python/packages.py:82\u001b[0m, in \u001b[0;36mget_package_share_directory\u001b[0;34m(package_name, print_warning)\u001b[0m\n\u001b[1;32m     67\u001b[0m \u001b[38;5;28;01mdef\u001b[39;00m \u001b[38;5;21mget_package_share_directory\u001b[39m(package_name: \u001b[38;5;28mstr\u001b[39m, print_warning: \u001b[38;5;28mbool\u001b[39m \u001b[38;5;241m=\u001b[39m \u001b[38;5;28;01mTrue\u001b[39;00m) \u001b[38;5;241m-\u001b[39m\u001b[38;5;241m>\u001b[39m \u001b[38;5;28mstr\u001b[39m:\n\u001b[1;32m     68\u001b[0m \u001b[38;5;250m    \u001b[39m\u001b[38;5;124;03m\"\"\"\u001b[39;00m\n\u001b[1;32m     69\u001b[0m \u001b[38;5;124;03m    Return the share directory of the given package.\u001b[39;00m\n\u001b[1;32m     70\u001b[0m \n\u001b[0;32m   (...)\u001b[0m\n\u001b[1;32m     80\u001b[0m \u001b[38;5;124;03m    :raises: :exc:`ValueError` if the package name is invalid\u001b[39;00m\n\u001b[1;32m     81\u001b[0m \u001b[38;5;124;03m    \"\"\"\u001b[39;00m\n\u001b[0;32m---> 82\u001b[0m     path \u001b[38;5;241m=\u001b[39m os\u001b[38;5;241m.\u001b[39mpath\u001b[38;5;241m.\u001b[39mjoin(\u001b[43mget_package_prefix\u001b[49m\u001b[43m(\u001b[49m\u001b[43mpackage_name\u001b[49m\u001b[43m)\u001b[49m, \u001b[38;5;124m'\u001b[39m\u001b[38;5;124mshare\u001b[39m\u001b[38;5;124m'\u001b[39m, package_name)\n\u001b[1;32m     83\u001b[0m     \u001b[38;5;28;01mif\u001b[39;00m print_warning \u001b[38;5;129;01mand\u001b[39;00m \u001b[38;5;129;01mnot\u001b[39;00m os\u001b[38;5;241m.\u001b[39mpath\u001b[38;5;241m.\u001b[39mexists(path):\n\u001b[1;32m     84\u001b[0m         warnings\u001b[38;5;241m.\u001b[39mwarn(\u001b[38;5;124mf\u001b[39m\u001b[38;5;124m'\u001b[39m\u001b[38;5;124mShare directory for \u001b[39m\u001b[38;5;132;01m{\u001b[39;00mpackage_name\u001b[38;5;132;01m}\u001b[39;00m\u001b[38;5;124m (\u001b[39m\u001b[38;5;132;01m{\u001b[39;00mpath\u001b[38;5;132;01m}\u001b[39;00m\u001b[38;5;124m) does not exist.\u001b[39m\u001b[38;5;124m'\u001b[39m, stacklevel\u001b[38;5;241m=\u001b[39m\u001b[38;5;241m2\u001b[39m)\n",
      "File \u001b[0;32m/opt/ros/jazzy/lib/python3.12/site-packages/ament_index_python/packages.py:62\u001b[0m, in \u001b[0;36mget_package_prefix\u001b[0;34m(package_name)\u001b[0m\n\u001b[1;32m     60\u001b[0m     content, package_prefix \u001b[38;5;241m=\u001b[39m get_resource(\u001b[38;5;124m'\u001b[39m\u001b[38;5;124mpackages\u001b[39m\u001b[38;5;124m'\u001b[39m, package_name)\n\u001b[1;32m     61\u001b[0m \u001b[38;5;28;01mexcept\u001b[39;00m \u001b[38;5;167;01mLookupError\u001b[39;00m:\n\u001b[0;32m---> 62\u001b[0m     \u001b[38;5;28;01mraise\u001b[39;00m PackageNotFoundError(\n\u001b[1;32m     63\u001b[0m         \u001b[38;5;124m\"\u001b[39m\u001b[38;5;124mpackage \u001b[39m\u001b[38;5;124m'\u001b[39m\u001b[38;5;132;01m{}\u001b[39;00m\u001b[38;5;124m'\u001b[39m\u001b[38;5;124m not found, searching: \u001b[39m\u001b[38;5;132;01m{}\u001b[39;00m\u001b[38;5;124m\"\u001b[39m\u001b[38;5;241m.\u001b[39mformat(package_name, get_search_paths()))\n\u001b[1;32m     64\u001b[0m \u001b[38;5;28;01mreturn\u001b[39;00m package_prefix\n",
      "\u001b[0;31mPackageNotFoundError\u001b[0m: \"package 'ur5e_2f_85_description' not found, searching: ['/opt/ros/jazzy']\""
     ]
    }
   ],
   "source": [
    "# initialize empty reward expert\n",
    "Expert = GT_Reward_Expert(feat_list, weights, gen='cost',\n",
    "                          starts=[], goals=[], goal_poses=None, combi=False,\n",
    "                          obj_center_dict = obj_center_dict)"
   ]
  },
  {
   "cell_type": "code",
   "execution_count": null,
   "metadata": {},
   "outputs": [],
   "source": []
  }
 ],
 "metadata": {
  "kernelspec": {
   "display_name": "Python 3",
   "language": "python",
   "name": "python3"
  },
  "language_info": {
   "codemirror_mode": {
    "name": "ipython",
    "version": 3
   },
   "file_extension": ".py",
   "mimetype": "text/x-python",
   "name": "python",
   "nbconvert_exporter": "python",
   "pygments_lexer": "ipython3",
   "version": "3.12.3"
  }
 },
 "nbformat": 4,
 "nbformat_minor": 2
}
